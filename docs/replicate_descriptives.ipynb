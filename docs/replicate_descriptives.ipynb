{
 "cells": [
  {
   "cell_type": "markdown",
   "metadata": {},
   "source": [
    "# Optimal Replacement of GMC Bus Engines: An empirical model of Harold Zurcher\n",
    "\n",
    "This notebook replicates the descriptives in Tabla IIa and IIb from\n",
    "> Rust, J. (1987). [Optimal Replacement of GMC Bus Engines: An empirical model of Harold Zurcher.](https://doi.org/10.2307/1911259) *Econometrica*, Vol. 55, No.5, 999-1033. \n",
    "\n",
    "The data is taken from the NFXP software provided by [Rust](https://editorialexpress.com/jrust/nfxp.html) which is available to download [here](https://github.com/OpenSourceEconomics/ruspy/tree/master/data). "
   ]
  },
  {
   "cell_type": "markdown",
   "metadata": {},
   "source": [
    "## Preparations\n",
    "\n",
    "Before executing this file the raw data needs to be processed."
   ]
  },
  {
   "cell_type": "code",
   "execution_count": 7,
   "metadata": {},
   "outputs": [],
   "source": [
    "import os\n",
    "import sys\n",
    "import numpy as np\n",
    "import pandas as pd\n",
    "import matplotlib.pyplot as plt\n",
    "from scipy.signal import savgol_filter\n",
    "\n",
    "sys.path.insert(0, \"../data/\")\n",
    "from data_processing import data_reading  # noqa: E402\n",
    "from data_processing import get_data_storage  # noqa: E402"
   ]
  },
  {
   "cell_type": "code",
   "execution_count": 4,
   "metadata": {},
   "outputs": [],
   "source": [
    "data_reading()"
   ]
  },
  {
   "cell_type": "markdown",
   "metadata": {},
   "source": [
    "### Odometer at Engine Replacement\n",
    "Table IIa in Rust's paper describes the milage on which a engine replacement occured. As there are buses, which had a second replacement during the time of the observation, the record of the second replacement will be reduced by the milage of the first, to get the real life time milage of an engine."
   ]
  },
  {
   "cell_type": "code",
   "execution_count": 5,
   "metadata": {},
   "outputs": [],
   "source": [
    "data_path = get_data_storage()\n",
    "dict_df = dict()\n",
    "for filename in os.listdir(data_path + \"/pkl/group_data/\"):\n",
    "    if filename.endswith(\".pkl\"):\n",
    "        dict_df[filename[0:7]] = pd.read_pickle(\n",
    "            data_path + \"/pkl/group_data/\" + filename\n",
    "        )"
   ]
  },
  {
   "cell_type": "code",
   "execution_count": 6,
   "metadata": {},
   "outputs": [
    {
     "data": {
      "text/html": [
       "<div>\n",
       "<style scoped>\n",
       "    .dataframe tbody tr th:only-of-type {\n",
       "        vertical-align: middle;\n",
       "    }\n",
       "\n",
       "    .dataframe tbody tr th {\n",
       "        vertical-align: top;\n",
       "    }\n",
       "\n",
       "    .dataframe thead th {\n",
       "        text-align: right;\n",
       "    }\n",
       "</style>\n",
       "<table border=\"1\" class=\"dataframe\">\n",
       "  <thead>\n",
       "    <tr style=\"text-align: right;\">\n",
       "      <th></th>\n",
       "      <th>count</th>\n",
       "      <th>mean</th>\n",
       "      <th>std</th>\n",
       "      <th>min</th>\n",
       "      <th>25%</th>\n",
       "      <th>50%</th>\n",
       "      <th>75%</th>\n",
       "      <th>max</th>\n",
       "    </tr>\n",
       "  </thead>\n",
       "  <tbody>\n",
       "    <tr>\n",
       "      <th>group_1</th>\n",
       "      <td>0</td>\n",
       "      <td>0</td>\n",
       "      <td>0</td>\n",
       "      <td>0</td>\n",
       "      <td>0</td>\n",
       "      <td>0</td>\n",
       "      <td>0</td>\n",
       "      <td>0</td>\n",
       "    </tr>\n",
       "    <tr>\n",
       "      <th>group_2</th>\n",
       "      <td>0</td>\n",
       "      <td>0</td>\n",
       "      <td>0</td>\n",
       "      <td>0</td>\n",
       "      <td>0</td>\n",
       "      <td>0</td>\n",
       "      <td>0</td>\n",
       "      <td>0</td>\n",
       "    </tr>\n",
       "    <tr>\n",
       "      <th>group_3</th>\n",
       "      <td>27</td>\n",
       "      <td>199733</td>\n",
       "      <td>37459</td>\n",
       "      <td>124800</td>\n",
       "      <td>174550</td>\n",
       "      <td>204800</td>\n",
       "      <td>230650</td>\n",
       "      <td>273400</td>\n",
       "    </tr>\n",
       "    <tr>\n",
       "      <th>group_4</th>\n",
       "      <td>33</td>\n",
       "      <td>257336</td>\n",
       "      <td>65477</td>\n",
       "      <td>121300</td>\n",
       "      <td>215000</td>\n",
       "      <td>264100</td>\n",
       "      <td>292400</td>\n",
       "      <td>387300</td>\n",
       "    </tr>\n",
       "    <tr>\n",
       "      <th>group_5</th>\n",
       "      <td>11</td>\n",
       "      <td>245290</td>\n",
       "      <td>60257</td>\n",
       "      <td>118000</td>\n",
       "      <td>229600</td>\n",
       "      <td>250600</td>\n",
       "      <td>282250</td>\n",
       "      <td>322500</td>\n",
       "    </tr>\n",
       "    <tr>\n",
       "      <th>group_6</th>\n",
       "      <td>7</td>\n",
       "      <td>150785</td>\n",
       "      <td>61006</td>\n",
       "      <td>82400</td>\n",
       "      <td>107450</td>\n",
       "      <td>125500</td>\n",
       "      <td>197750</td>\n",
       "      <td>237200</td>\n",
       "    </tr>\n",
       "    <tr>\n",
       "      <th>group_7</th>\n",
       "      <td>27</td>\n",
       "      <td>208962</td>\n",
       "      <td>48980</td>\n",
       "      <td>121000</td>\n",
       "      <td>178650</td>\n",
       "      <td>207700</td>\n",
       "      <td>237200</td>\n",
       "      <td>331800</td>\n",
       "    </tr>\n",
       "    <tr>\n",
       "      <th>group_8</th>\n",
       "      <td>19</td>\n",
       "      <td>186700</td>\n",
       "      <td>43956</td>\n",
       "      <td>132000</td>\n",
       "      <td>162900</td>\n",
       "      <td>182100</td>\n",
       "      <td>188400</td>\n",
       "      <td>297500</td>\n",
       "    </tr>\n",
       "  </tbody>\n",
       "</table>\n",
       "</div>"
      ],
      "text/plain": [
       "         count    mean    std     min     25%     50%     75%     max\n",
       "group_1      0       0      0       0       0       0       0       0\n",
       "group_2      0       0      0       0       0       0       0       0\n",
       "group_3     27  199733  37459  124800  174550  204800  230650  273400\n",
       "group_4     33  257336  65477  121300  215000  264100  292400  387300\n",
       "group_5     11  245290  60257  118000  229600  250600  282250  322500\n",
       "group_6      7  150785  61006   82400  107450  125500  197750  237200\n",
       "group_7     27  208962  48980  121000  178650  207700  237200  331800\n",
       "group_8     19  186700  43956  132000  162900  182100  188400  297500"
      ]
     },
     "execution_count": 6,
     "metadata": {},
     "output_type": "execute_result"
    }
   ],
   "source": [
    "df = pd.DataFrame()\n",
    "for j, i in enumerate(sorted(dict_df.keys())):\n",
    "    df2 = dict_df[i][[\"Odo_1\"]][dict_df[i][\"Odo_1\"] > 0]\n",
    "    df2 = df2.rename(columns={\"Odo_1\": i})\n",
    "    df3 = dict_df[i][[\"Odo_2\"]].sub(dict_df[i][\"Odo_1\"], axis=0)[\n",
    "        dict_df[i][\"Odo_2\"] > 0\n",
    "    ]\n",
    "    df3 = df3.rename(columns={\"Odo_2\": i})\n",
    "    df3 = df3.set_index(df3.index.astype(str) + \"_2\")\n",
    "    df4 = pd.concat([df2, df3])\n",
    "    if j == 0:\n",
    "        df = df4.describe()\n",
    "    else:\n",
    "        df = pd.concat([df, df4.describe()], axis=1)\n",
    "df = df.transpose()\n",
    "df.fillna(0).astype(int)"
   ]
  },
  {
   "cell_type": "code",
   "execution_count": 7,
   "metadata": {},
   "outputs": [],
   "source": [
    "i = \"group_4\"\n",
    "df_group_4_rep_1 = dict_df[i][[\"Odo_1\"]][dict_df[i][\"Odo_1\"] > 0]\n",
    "df_group_4_rep_1 = df_group_4_rep_1.rename(columns={\"Odo_1\": i})\n",
    "df_group_4_rep_2 = dict_df[i][[\"Odo_2\"]].sub(dict_df[i][\"Odo_1\"], axis=0)[\n",
    "    dict_df[i][\"Odo_2\"] > 0\n",
    "]\n",
    "df_group_4_rep_2 = df_group_4_rep_2.rename(columns={\"Odo_2\": i})\n",
    "df_group_4_rep_2 = df_group_4_rep_2.set_index(df3.index.astype(str) + \"_2\")\n",
    "df_group_4 = pd.concat([df_group_4_rep_1, df_group_4_rep_2])"
   ]
  },
  {
   "cell_type": "code",
   "execution_count": 8,
   "metadata": {},
   "outputs": [
    {
     "data": {
      "text/plain": [
       "(array([2, 3, 1, 4, 3, 8, 6, 3, 1, 2]),\n",
       " array([121300., 147900., 174500., 201100., 227700., 254300., 280900.,\n",
       "        307500., 334100., 360700., 387300.]))"
      ]
     },
     "execution_count": 8,
     "metadata": {},
     "output_type": "execute_result"
    }
   ],
   "source": [
    "bins = 10\n",
    "hist_data = np.histogram(df_group_4[\"group_4\"].to_numpy(), bins=bins)\n",
    "hist_data"
   ]
  },
  {
   "cell_type": "code",
   "execution_count": 9,
   "metadata": {},
   "outputs": [
    {
     "data": {
      "text/plain": [
       "[<matplotlib.lines.Line2D at 0x7f28ad2eb310>]"
      ]
     },
     "execution_count": 9,
     "metadata": {},
     "output_type": "execute_result"
    },
    {
     "data": {
      "image/png": "[encoded data removed]",
      "text/plain": [
       "<Figure size 432x288 with 1 Axes>"
      ]
     },
     "metadata": {
      "needs_background": "light"
     },
     "output_type": "display_data"
    }
   ],
   "source": [
    "hist_normed = hist_data[0] / sum(hist_data[0])\n",
    "x = np.linspace(np.min(hist_data[1]), np.max(hist_data[1]), bins)\n",
    "hist_filter = savgol_filter(hist_normed, 9, 3)\n",
    "\n",
    "fig, ax = plt.subplots(1, 1)\n",
    "ax.plot(x, hist_filter)"
   ]
  },
  {
   "cell_type": "markdown",
   "metadata": {},
   "source": [
    "### Never failing buses\n",
    "\n",
    "Table IIb explores buses, which never had an engine replacement. Therefore this data is left-censored, as the econometrican never observes the time of replacement. The table shows the variation in the odometer record at the end of the observation period."
   ]
  },
  {
   "cell_type": "code",
   "execution_count": 10,
   "metadata": {},
   "outputs": [
    {
     "data": {
      "text/html": [
       "<div>\n",
       "<style scoped>\n",
       "    .dataframe tbody tr th:only-of-type {\n",
       "        vertical-align: middle;\n",
       "    }\n",
       "\n",
       "    .dataframe tbody tr th {\n",
       "        vertical-align: top;\n",
       "    }\n",
       "\n",
       "    .dataframe thead th {\n",
       "        text-align: right;\n",
       "    }\n",
       "</style>\n",
       "<table border=\"1\" class=\"dataframe\">\n",
       "  <thead>\n",
       "    <tr style=\"text-align: right;\">\n",
       "      <th></th>\n",
       "      <th>max</th>\n",
       "      <th>min</th>\n",
       "      <th>mean</th>\n",
       "      <th>std</th>\n",
       "      <th>count</th>\n",
       "    </tr>\n",
       "  </thead>\n",
       "  <tbody>\n",
       "    <tr>\n",
       "      <th>group_1</th>\n",
       "      <td>120151</td>\n",
       "      <td>65643</td>\n",
       "      <td>100116</td>\n",
       "      <td>12929</td>\n",
       "      <td>15</td>\n",
       "    </tr>\n",
       "    <tr>\n",
       "      <th>group_2</th>\n",
       "      <td>161748</td>\n",
       "      <td>142009</td>\n",
       "      <td>151182</td>\n",
       "      <td>8529</td>\n",
       "      <td>4</td>\n",
       "    </tr>\n",
       "    <tr>\n",
       "      <th>group_3</th>\n",
       "      <td>280802</td>\n",
       "      <td>199626</td>\n",
       "      <td>250766</td>\n",
       "      <td>21324</td>\n",
       "      <td>21</td>\n",
       "    </tr>\n",
       "    <tr>\n",
       "      <th>group_4</th>\n",
       "      <td>352450</td>\n",
       "      <td>310910</td>\n",
       "      <td>337221</td>\n",
       "      <td>17802</td>\n",
       "      <td>5</td>\n",
       "    </tr>\n",
       "    <tr>\n",
       "      <th>group_5</th>\n",
       "      <td>326843</td>\n",
       "      <td>326843</td>\n",
       "      <td>326843</td>\n",
       "      <td>0</td>\n",
       "      <td>1</td>\n",
       "    </tr>\n",
       "    <tr>\n",
       "      <th>group_6</th>\n",
       "      <td>299040</td>\n",
       "      <td>232395</td>\n",
       "      <td>265263</td>\n",
       "      <td>33331</td>\n",
       "      <td>3</td>\n",
       "    </tr>\n",
       "    <tr>\n",
       "      <th>group_7</th>\n",
       "      <td>0</td>\n",
       "      <td>0</td>\n",
       "      <td>0</td>\n",
       "      <td>0</td>\n",
       "      <td>0</td>\n",
       "    </tr>\n",
       "    <tr>\n",
       "      <th>group_8</th>\n",
       "      <td>0</td>\n",
       "      <td>0</td>\n",
       "      <td>0</td>\n",
       "      <td>0</td>\n",
       "      <td>0</td>\n",
       "    </tr>\n",
       "  </tbody>\n",
       "</table>\n",
       "</div>"
      ],
      "text/plain": [
       "            max     min    mean    std  count\n",
       "group_1  120151   65643  100116  12929     15\n",
       "group_2  161748  142009  151182   8529      4\n",
       "group_3  280802  199626  250766  21324     21\n",
       "group_4  352450  310910  337221  17802      5\n",
       "group_5  326843  326843  326843      0      1\n",
       "group_6  299040  232395  265263  33331      3\n",
       "group_7       0       0       0      0      0\n",
       "group_8       0       0       0      0      0"
      ]
     },
     "execution_count": 10,
     "metadata": {},
     "output_type": "execute_result"
    }
   ],
   "source": [
    "df = pd.DataFrame()\n",
    "for i in sorted(dict_df.keys()):\n",
    "    df2 = dict_df[i][[dict_df[i].columns.values[-1]]][dict_df[i][\"Odo_1\"] == 0]\n",
    "    df2 = df2.rename(columns={df2.columns.values[0]: i})\n",
    "    if j == 0:\n",
    "        df = df2.describe()\n",
    "    else:\n",
    "        df = pd.concat([df, df2.describe()], axis=1)\n",
    "df = df.transpose()\n",
    "df = df.drop(df.columns[[4, 5, 6]], axis=1)\n",
    "df[[\"max\", \"min\", \"mean\", \"std\", \"count\"]].fillna(0).astype(int)"
   ]
  }
 ],
 "metadata": {
  "kernelspec": {
   "display_name": "Python 3",
   "language": "python",
   "name": "python3"
  },
  "language_info": {
   "codemirror_mode": {
    "name": "ipython",
    "version": 3
   },
   "file_extension": ".py",
   "mimetype": "text/x-python",
   "name": "python",
   "nbconvert_exporter": "python",
   "pygments_lexer": "ipython3",
   "version": "3.7.10"
  }
 },
 "nbformat": 4,
 "nbformat_minor": 4
}
